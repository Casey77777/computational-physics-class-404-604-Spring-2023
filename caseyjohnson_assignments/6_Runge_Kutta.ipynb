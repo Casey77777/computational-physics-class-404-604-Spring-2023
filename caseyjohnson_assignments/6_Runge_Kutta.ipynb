{
 "cells": [
  {
   "cell_type": "code",
   "execution_count": 1,
   "id": "81c6fbda",
   "metadata": {},
   "outputs": [],
   "source": [
    "# Homework\n",
    "\n",
    "# Undergraduate student:\n",
    "# A person throws a ball upwards at a speed of 10 m/s, please calculate the trajectory using Runge-Kutta method\n",
    "# and plot height (z) vs time (t)."
   ]
  },
  {
   "cell_type": "markdown",
   "id": "098d0c40",
   "metadata": {},
   "source": [
    "For a ball thrown upward, we can express Newton's 2nd law as\n",
    "\\begin{equation}\n",
    "    F_z = ma_z = -mg,\\\\\n",
    "\\end{equation}\n",
    "hence,\n",
    "\\begin{equation}\n",
    "    \\ddot{z}(t) = -g\n",
    "\\end{equation}\n",
    "In order to solve this equation with Runge-Kutta method, we must first express this second order ODE as a system of first order ODEs:\n",
    "\\begin{eqnarray}\n",
    "    \\dot{z}(t) = v_z(t)\\\\\n",
    "    \\dot{v}_z(t) = -g. \n",
    "\\end{eqnarray}\n",
    "Next, we can organize this system of ODEs into a vector equation:\n",
    "\\begin{equation}\n",
    "    \\dot{\\textbf{w}}(t) = \\textbf{f}(t,\\textbf{w})\n",
    "\\end{equation}\n",
    "where\n",
    "\\begin{equation}\n",
    "    \\textbf{w}(t) \\equiv (z(t),v_z(t))\n",
    "\\end{equation}\n",
    "and\n",
    "\\begin{equation}\n",
    "    \\textbf{f}(t,\\textbf{w}) \\equiv (v_z(t),-g). \n",
    "\\end{equation}\n",
    "Now we can use RK-4 to solve this vector ODE for several time steps using the following initial conditions:\n",
    "\\begin{equation}\n",
    "    z(0)=0, v_z(0)=10m/s.\n",
    "\\end{equation}"
   ]
  },
  {
   "cell_type": "code",
   "execution_count": 2,
   "id": "0e269403",
   "metadata": {},
   "outputs": [],
   "source": [
    "import numpy as np\n",
    "import matplotlib.pyplot as plt"
   ]
  },
  {
   "cell_type": "code",
   "execution_count": 3,
   "id": "2fbce6b9",
   "metadata": {},
   "outputs": [],
   "source": [
    "def runge_kutta_4(t,w,f,h):\n",
    "    w = np.asarray(w)\n",
    "    \n",
    "    k1 = h * np.asarray(f(t, w))\n",
    "    k2 = h * np.asarray(f(t+h/2, w+k1/2))\n",
    "    k3 = h * np.asarray(f(t+h/2, w+k2/2))\n",
    "    k4 = h * np.asarray(f(t+h, w+k3))\n",
    "    \n",
    "    w = w + (k1 + 2*k2 + 2*k3 + k4) / 6\n",
    "    return w"
   ]
  },
  {
   "cell_type": "code",
   "execution_count": 4,
   "id": "ca4536f1",
   "metadata": {},
   "outputs": [
    {
     "data": {
      "text/plain": [
       "Text(0, 0.5, 'z (m)')"
      ]
     },
     "execution_count": 4,
     "metadata": {},
     "output_type": "execute_result"
    },
    {
     "data": {
      "image/png": "[encoded data removed]",
      "text/plain": [
       "<Figure size 432x288 with 1 Axes>"
      ]
     },
     "metadata": {
      "needs_background": "light"
     },
     "output_type": "display_data"
    }
   ],
   "source": [
    "t = 0       # s\n",
    "h = 0.01    # s\n",
    "w = [0,10]  # [m, m/s]\n",
    "t_end = 3   # s\n",
    "g = 9.81    # m/s^2\n",
    "\n",
    "f = lambda t,w: [w[1],-g]\n",
    "\n",
    "ts = [t]\n",
    "zs = [w[0]]\n",
    "while t < t_end:\n",
    "    w = runge_kutta_4(t,w,f,h)\n",
    "    t = t + h\n",
    "    ts.append(t)\n",
    "    zs.append(w[0])\n",
    "    \n",
    "plt.plot(ts, zs)\n",
    "plt.title('Verticle trajectory of thrown ball over time')\n",
    "plt.xlabel('t (s)')\n",
    "plt.ylabel('z (m)')"
   ]
  }
 ],
 "metadata": {
  "kernelspec": {
   "display_name": "Python 3 (ipykernel)",
   "language": "python",
   "name": "python3"
  },
  "language_info": {
   "codemirror_mode": {
    "name": "ipython",
    "version": 3
   },
   "file_extension": ".py",
   "mimetype": "text/x-python",
   "name": "python",
   "nbconvert_exporter": "python",
   "pygments_lexer": "ipython3",
   "version": "3.9.7"
  }
 },
 "nbformat": 4,
 "nbformat_minor": 5
}
