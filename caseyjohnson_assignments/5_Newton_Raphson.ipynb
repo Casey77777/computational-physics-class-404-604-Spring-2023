{
 "cells": [
  {
   "cell_type": "markdown",
   "id": "3aaf402c",
   "metadata": {},
   "source": [
    "## Newton-Raphson for equations\n",
    "Find the solution for  \n",
    "\\begin{eqnarray}\n",
    "x_{1}^2+x_{1}x_{2}=10\\\\\n",
    "x_{2}+3x_{1}x_{2}^2=57\n",
    "\\end{eqnarray}"
   ]
  },
  {
   "cell_type": "code",
   "execution_count": 1,
   "id": "c5a557e0",
   "metadata": {},
   "outputs": [],
   "source": [
    "# Homework: using Newton-Raphson method to solve above equation arrays\n",
    "# Hint: first you need to derive the partical derivative of the equation arrays. You can do it either \n",
    "# analytically by hand or numerically using method we learned in the last lecture."
   ]
  },
  {
   "cell_type": "code",
   "execution_count": 2,
   "id": "6facdffa",
   "metadata": {},
   "outputs": [],
   "source": [
    "import matplotlib.pyplot as plt\n",
    "import numpy as np"
   ]
  },
  {
   "cell_type": "code",
   "execution_count": 3,
   "id": "9045801f",
   "metadata": {},
   "outputs": [
    {
     "data": {
      "image/png": "[encoded data removed]",
      "text/plain": [
       "<Figure size 432x288 with 1 Axes>"
      ]
     },
     "metadata": {
      "needs_background": "light"
     },
     "output_type": "display_data"
    }
   ],
   "source": [
    "# Define f1 and f2 in terms of x1 for plotting\n",
    "\n",
    "def f1_solved_for_x2(x):\n",
    "    return (10.-x*x)/x\n",
    "\n",
    "def f2_solved_for_x2_positive(x):\n",
    "    try:\n",
    "        return (-1+np.sqrt(1.+4.*3.*x*57))/6./x\n",
    "    except:\n",
    "        return \n",
    "\n",
    "def f2_solved_for_x2_negative(x):\n",
    "    return (-1-np.sqrt(1.+4.*3.*x*57))/6./x\n",
    "\n",
    "# Draw graphics to roughly determine x1 and x2\n",
    "np.seterr(all=\"ignore\")\n",
    "xs = np.linspace(-8,8,1000)\n",
    "f1_solved_for_x2_values = f1_solved_for_x2(xs)\n",
    "f2_solved_for_x2_positive_values = f2_solved_for_x2_positive(xs)\n",
    "f2_solved_for_x2_negative_values = f2_solved_for_x2_negative(xs)\n",
    "\n",
    "plt.xlim(-8,8)\n",
    "plt.ylim(-8,8)\n",
    "\n",
    "# Ignore points outside range for f1 (prevents vertical asymptotic line from being plotted)\n",
    "f1_solved_for_x2_values[f1_solved_for_x2_values > plt.ylim()[1]] = np.nan\n",
    "f1_solved_for_x2_values[f1_solved_for_x2_values < plt.ylim()[0]] = np.nan\n",
    "\n",
    "plt.plot(xs, f1_solved_for_x2_values, 'b', label='f1')\n",
    "plt.plot(xs, f2_solved_for_x2_positive_values, 'r', label='f2')\n",
    "plt.plot(xs, f2_solved_for_x2_negative_values, 'r')\n",
    "\n",
    "plt.title('The original two equations in terms of x1')\n",
    "plt.xlabel('x1')\n",
    "plt.ylabel('x2')\n",
    "plt.legend()\n",
    "plt.grid()\n",
    "\n"
   ]
  },
  {
   "cell_type": "code",
   "execution_count": 4,
   "id": "1fb3acf3",
   "metadata": {},
   "outputs": [
    {
     "name": "stdout",
     "output_type": "stream",
     "text": [
      "eps = 1e-08\n",
      "\n",
      "Starting with (1,1)\n",
      "Number of iterations: 6\n",
      "x1 = 2.000000000000006\n",
      "x2 = 2.9999999999999907\n",
      "\n",
      "Starting with (4,-2)\n",
      "Number of iterations: 4\n",
      "x1 = 4.393744193288599\n",
      "x2 = -2.1177810147141836\n"
     ]
    }
   ],
   "source": [
    "def f1(x1,x2):\n",
    "    return (x1*x1+x1*x2-10.)\n",
    "\n",
    "def f2(x1,x2):\n",
    "    return (x2+3*x1*x2*x2-57)\n",
    "\n",
    "def partial_deriv(f,x1,x2,wrt,dx):\n",
    "    # Returns the partial derivative of f with respect to wrt\n",
    "    if wrt == 'dx1':\n",
    "        return (f(x1+dx/2,x2) - f(x1-dx/2,x2)) / dx\n",
    "    if wrt == 'dx2':\n",
    "        return (f(x1,x2+dx/2) - f(x1,x2-dx/2)) / dx\n",
    "    raise Exception('Invalid wrt argument in partial derivative!')\n",
    "\n",
    "# Partial derivative functions\n",
    "def f1x1(x1,x2):\n",
    "    return partial_deriv(f1, x1, x2, 'dx1', dx=0.01)\n",
    "\n",
    "def f1x2(x1,x2):\n",
    "    return partial_deriv(f1, x1, x2, 'dx2', dx=0.01)\n",
    "    \n",
    "def f2x1(x1,x2):\n",
    "    return partial_deriv(f2, x1, x2, 'dx1', dx=0.01)\n",
    "    \n",
    "def f2x2(x1,x2):\n",
    "    return partial_deriv(f2, x1, x2, 'dx2', dx=0.01)\n",
    "\n",
    "# The tiny change in x1 and x2\n",
    "def dx1(f1,f2,f1x1,f1x2,f2x1,f2x2):\n",
    "    return (f1x2*f2 - f2x2*f1) / (f1x1*f2x2 - f1x2*f2x1)\n",
    "\n",
    "def dx2(f1,f2,f1x1,f1x2,f2x1,f2x2):\n",
    "    return (f2x1*f1 - f1x1*f2) / (f1x1*f2x2 - f1x2*f2x1)\n",
    "\n",
    "def newton_raphson(x1,x2,Nmax,eps):\n",
    "    print(\"Starting with ({},{})\".format(x1,x2))\n",
    "    for i in range(Nmax):\n",
    "        f1_value = f1(x1,x2)\n",
    "        f2_value = f2(x1,x2)\n",
    "        f1x1_value = f1x1(x1,x2)\n",
    "        f1x2_value = f1x2(x1,x2)\n",
    "        f2x1_value = f2x1(x1,x2)\n",
    "        f2x2_value = f2x2(x1,x2)\n",
    "\n",
    "        if abs(f1_value) < eps and abs(f2_value) < eps:\n",
    "            print(\"Number of iterations:\", i)\n",
    "            break\n",
    "\n",
    "        x1=x1+dx1(f1_value,f2_value,f1x1_value,f1x2_value,f2x1_value,f2x2_value)\n",
    "        x2=x2+dx2(f1_value,f2_value,f1x1_value,f1x2_value,f2x1_value,f2x2_value)\n",
    "\n",
    "    print('x1 =', x1)\n",
    "    print('x2 =', x2)\n",
    "    \n",
    "    return \n",
    "\n",
    "Nmax = 100\n",
    "eps = 1e-8\n",
    "print('eps =', eps)\n",
    "print()\n",
    "newton_raphson(1,1,Nmax,eps)\n",
    "print()\n",
    "newton_raphson(4,-2,Nmax,eps)\n"
   ]
  }
 ],
 "metadata": {
  "kernelspec": {
   "display_name": "Python 3 (ipykernel)",
   "language": "python",
   "name": "python3"
  },
  "language_info": {
   "codemirror_mode": {
    "name": "ipython",
    "version": 3
   },
   "file_extension": ".py",
   "mimetype": "text/x-python",
   "name": "python",
   "nbconvert_exporter": "python",
   "pygments_lexer": "ipython3",
   "version": "3.9.7"
  }
 },
 "nbformat": 4,
 "nbformat_minor": 5
}
