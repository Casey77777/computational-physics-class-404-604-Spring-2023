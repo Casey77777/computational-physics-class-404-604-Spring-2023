{
 "cells": [
  {
   "cell_type": "markdown",
   "id": "9a1394ca",
   "metadata": {},
   "source": [
    "# Homework\n",
    "\n",
    "1) Calculate and plot the ratio F(n)/F(n-1) with respect to n using memorization method. \n",
    "\n",
    "2) \n",
    "\n",
    "    a) Use the Recursion method, Tabulation method,  and matrix method to calculate the time spent for different n (e.g. 1, 10, 100, 1000, 10000, … uniform in the log space). (caution: recursion method will break when n>100)\n",
    "\n",
    "    b) For each method, output the time and n into a file\n",
    "       \n",
    "    c) Read from the file and plot log(time) (y-axis) vs. log(n) (x-axis) for different methods. \n",
    "       \n",
    "    d) Discuss the complexity of each method.\n"
   ]
  },
  {
   "cell_type": "markdown",
   "id": "115f4997",
   "metadata": {},
   "source": [
    "<h3>1. Fibonacci ratios using memorization method</h3>"
   ]
  },
  {
   "cell_type": "code",
   "execution_count": 1,
   "id": "6deff390",
   "metadata": {},
   "outputs": [],
   "source": [
    "import numpy as np\n",
    "import matplotlib.pyplot as plt"
   ]
  },
  {
   "cell_type": "code",
   "execution_count": 2,
   "id": "91cb8dd1",
   "metadata": {},
   "outputs": [],
   "source": [
    "def fib_memorization(n, table):\n",
    "    \n",
    "    # BASE CASE: First two elements of table are always 0 and 1, respectively.\n",
    "    if n == 0 or n == 1:\n",
    "        table[n] = n\n",
    "        \n",
    "    # INDUCTIVE STEP: For n > 1, if the nth element of table is None then set it to the \n",
    "    # sum of the two elements before it. \n",
    "    if table[n] == None:\n",
    "        table[n] = fib_memorization(n-1,table) + fib_memorization(n-2,table)\n",
    "    \n",
    "    return table[n]"
   ]
  },
  {
   "cell_type": "code",
   "execution_count": 3,
   "id": "e999eef2",
   "metadata": {},
   "outputs": [
    {
     "name": "stdout",
     "output_type": "stream",
     "text": [
      "n= 2 \tratio= 1.0\n",
      "n= 3 \tratio= 2.0\n",
      "n= 4 \tratio= 1.5\n",
      "n= 5 \tratio= 1.6666666666666667\n",
      "n= 6 \tratio= 1.6\n",
      "n= 7 \tratio= 1.625\n",
      "n= 8 \tratio= 1.6153846153846154\n",
      "n= 9 \tratio= 1.619047619047619\n",
      "n= 10 \tratio= 1.6176470588235294\n",
      "n= 11 \tratio= 1.6181818181818182\n",
      "n= 12 \tratio= 1.6179775280898876\n",
      "n= 13 \tratio= 1.6180555555555556\n",
      "n= 14 \tratio= 1.6180257510729614\n",
      "n= 15 \tratio= 1.6180371352785146\n",
      "n= 16 \tratio= 1.618032786885246\n",
      "n= 17 \tratio= 1.618034447821682\n",
      "n= 18 \tratio= 1.6180338134001253\n",
      "n= 19 \tratio= 1.618034055727554\n"
     ]
    },
    {
     "data": {
      "image/png": "[encoded data removed]",
      "text/plain": [
       "<Figure size 432x288 with 1 Axes>"
      ]
     },
     "metadata": {
      "needs_background": "light"
     },
     "output_type": "display_data"
    }
   ],
   "source": [
    "ns = np.arange(2,20)\n",
    "fib_ratios = []\n",
    "\n",
    "# populate fib_ratios with F[n]/F[n-1] for each n in ns and print the ratios\n",
    "for n in ns:\n",
    "    blank_table = [None]*(n+1)\n",
    "    fib_ratios.append(fib_memorization(n, blank_table) / fib_memorization(n-1, blank_table))\n",
    "    print('n=', n, '\\tratio=', fib_ratios[n-2])\n",
    "    \n",
    "plt.plot([ns[0]-1,ns[-1]+1], [(1+np.sqrt(5))/2]*2, 'k--', label='golden ratio')  # plot golden ratio\n",
    "plt.scatter(ns, fib_ratios, c='b', label='F[n] / F[n-1]')  # plot fibonacci ratios\n",
    "plt.title('Fibonacci ratios')\n",
    "plt.xlim(ns[0]-1,ns[-1]+1)\n",
    "plt.xticks(ns)\n",
    "plt.xlabel('n')\n",
    "plt.ylabel('F[n]\\n---------\\nF[n-1]')\n",
    "plt.legend()\n",
    "plt.grid()\n",
    "plt.show()"
   ]
  },
  {
   "cell_type": "markdown",
   "id": "71679b25",
   "metadata": {},
   "source": [
    "<h3>2. Fibonacci sequence time comparison (recursion vs. tabulation vs. matrix)"
   ]
  },
  {
   "cell_type": "code",
   "execution_count": 4,
   "id": "d73a9559",
   "metadata": {},
   "outputs": [],
   "source": [
    "from time import time\n",
    "import os"
   ]
  },
  {
   "cell_type": "code",
   "execution_count": 5,
   "id": "fa01bfe5",
   "metadata": {},
   "outputs": [],
   "source": [
    "def fib_recursion(n):\n",
    "    \n",
    "    # BASE CASE: First two elements of fibonacci sequence are 0 and 1, respectively. \n",
    "    if n == 0 or n == 1:\n",
    "        return n\n",
    "    \n",
    "    # INDUCTIVE STEP: For n > 1, the nth element is the sum of the previous two elements. \n",
    "    return fib_recursion(n-1) + fib_recursion(n-2)\n",
    "\n",
    "def fib_tabulation(n):\n",
    "    \n",
    "    # INITIALIZE TABLE: First two elements of table are 0 and 1, respectively. \n",
    "    table = [0]*(n+1)\n",
    "    table[1] = 1\n",
    "    \n",
    "    # SUCCESSIVE STEP: Calculate the next element of table by summing the previous two \n",
    "    # elements and repeat til table is filled to the nth element. \n",
    "    for i in range(2, n+1):\n",
    "        table[i] = table[i-1] + table[i-2]\n",
    "    return table[n]\n",
    "\n",
    "def fib_matrix(n):\n",
    "    \n",
    "    init_arr = [[1,1],   # F[2] F[1]\n",
    "                [1,0]]   # F[1] F[0]\n",
    "    \n",
    "    def arr_power(n):\n",
    "        \n",
    "        # For first two elements, automically return array that results in the \n",
    "        # fibonacci number 0 or 1, accordingly. \n",
    "        if n == -1 or n == 0:\n",
    "            return [[n+1,0],[0,0]]\n",
    "        \n",
    "        # BASE CASE: (init_arr)^1 = init_arr\n",
    "        if n == 1:\n",
    "            return init_arr\n",
    "        \n",
    "        # INDUCTIVE STEP: (init_arr)^n = [(init_arr)^(n//2)] ^ 2 * (init_arr)^(n%2). \n",
    "        res = arr_power(n//2)\n",
    "        res = [[res[0][0]*res[0][0]+res[0][1]*res[1][0],res[0][0]*res[0][1]+res[0][1]*res[1][1]],\n",
    "               [res[1][0]*res[0][0]+res[1][1]*res[1][0],res[1][0]*res[0][1]+res[1][1]*res[1][1]]]\n",
    "        if n%2 == 1:\n",
    "            res = [[res[0][0]*init_arr[0][0]+res[0][1]*init_arr[1][0],res[0][0]*init_arr[0][1]+res[0][1]*init_arr[1][1]],\n",
    "                   [res[1][0]*init_arr[0][0]+res[1][1]*init_arr[1][0],res[1][0]*init_arr[0][1]+res[1][1]*init_arr[1][1]]]\n",
    "        return res\n",
    "\n",
    "    return arr_power(n-1)[0][0]"
   ]
  },
  {
   "cell_type": "code",
   "execution_count": 6,
   "id": "0fa7cc87",
   "metadata": {},
   "outputs": [],
   "source": [
    "n_min_power = 0  # min n = 10^(n_min_power)\n",
    "n_max_power = 8  # max n = 10^(n_max_power)\n",
    "\n",
    "# delete current file of times\n",
    "file_path_name = r'./fibonacci_times.txt'\n",
    "if os.path.exists(file_path_name):\n",
    "    os.remove(file_path_name)\n",
    "\n",
    "# create new file of times\n",
    "with open(file_path_name, 'w') as file:\n",
    "    \n",
    "    file.write('n | recursion time (s) | tabulation time (s) | matrix time (s)\\n')\n",
    "    \n",
    "    # times that are too long default to None\n",
    "    for n in np.logspace(n_min_power, n_max_power, 20).astype('int'):\n",
    "        if n < 40:\n",
    "            start_time = time()\n",
    "            fib_recursion(n)\n",
    "            rec_time = time()-start_time\n",
    "        else:\n",
    "            rec_time = None\n",
    "        \n",
    "        if n < 8e5:\n",
    "            start_time = time()\n",
    "            fib_tabulation(n)\n",
    "            tab_time = time()-start_time\n",
    "        else:\n",
    "            tab_time = None\n",
    "        \n",
    "        if n < 7e7:\n",
    "            start_time = time()\n",
    "            fib_matrix(n)\n",
    "            mat_time = time()-start_time\n",
    "        else:\n",
    "            mat_time = None\n",
    "        \n",
    "        file.write('{} {} {} {}\\n'.format(n, rec_time, tab_time, mat_time))\n",
    "        "
   ]
  },
  {
   "cell_type": "code",
   "execution_count": 7,
   "id": "a2746a2a",
   "metadata": {},
   "outputs": [
    {
     "name": "stdout",
     "output_type": "stream",
     "text": [
      "[1, 2, 6, 18, 48, 127, 335, 885, 2335, 6158, 16237, 42813, 112883, 297635, 784759, 2069138, 5455594, 14384498, 37926901, 100000000]\n",
      "[2.86102294921875e-06, 5.9604644775390625e-06, 3.719329833984375e-05, 0.009575128555297852, None, None, None, None, None, None, None, None, None, None, None, None, None, None, None, None]\n",
      "[8.821487426757812e-06, 5.0067901611328125e-06, 5.9604644775390625e-06, 2.5033950805664062e-05, 1.71661376953125e-05, 4.506111145019531e-05, 0.00013518333435058594, 0.00038909912109375, 0.0015628337860107422, 0.004562854766845703, 0.02245783805847168, 0.06798005104064941, 0.3564589023590088, 2.3366589546203613, 72.66204595565796, None, None, None, None, None]\n",
      "[7.867813110351562e-06, 3.814697265625e-06, 2.5987625122070312e-05, 4.1961669921875e-05, 3.814697265625e-05, 4.363059997558594e-05, 5.125999450683594e-05, 6.914138793945312e-05, 0.0001227855682373047, 0.00021791458129882812, 0.0006420612335205078, 0.0015082359313964844, 0.006649971008300781, 0.031942129135131836, 0.14351630210876465, 0.6840777397155762, 3.3786380290985107, 14.139956951141357, 69.74947309494019, None]\n"
     ]
    }
   ],
   "source": [
    "# read from file of times and store the values as floats or None\n",
    "with open(file_path_name, 'r') as file:\n",
    "    \n",
    "    file.readline()\n",
    "    lines = []\n",
    "    ns = []\n",
    "    rec_times = []\n",
    "    tab_times = []\n",
    "    mat_times = []\n",
    "    for line in file:\n",
    "        line = line.strip().split()\n",
    "        \n",
    "        ns.append(int(line[0]))\n",
    "        \n",
    "        try:\n",
    "            rec_times.append(float(line[1]))\n",
    "        except ValueError:\n",
    "            rec_times.append(None)\n",
    "        \n",
    "        try:\n",
    "            tab_times.append(float(line[2]))\n",
    "        except ValueError:\n",
    "            tab_times.append(None)\n",
    "            \n",
    "        try:\n",
    "            mat_times.append(float(line[3]))\n",
    "        except ValueError:\n",
    "            mat_times.append(None)\n",
    "    \n",
    "print(ns)\n",
    "print(rec_times)\n",
    "print(tab_times)\n",
    "print(mat_times)"
   ]
  },
  {
   "cell_type": "code",
   "execution_count": 8,
   "id": "66246782",
   "metadata": {},
   "outputs": [
    {
     "data": {
      "image/png": "[encoded data removed]",
      "text/plain": [
       "<Figure size 432x288 with 1 Axes>"
      ]
     },
     "metadata": {
      "needs_background": "light"
     },
     "output_type": "display_data"
    }
   ],
   "source": [
    "plt.plot(ns, rec_times, linestyle='-', marker='.', label='recursion')\n",
    "plt.plot(ns, tab_times, linestyle='-', marker='.', label='tabulation')\n",
    "plt.plot(ns, mat_times, linestyle='-', marker='.', label='matrix')\n",
    "plt.xscale('log')\n",
    "plt.yscale('log')\n",
    "plt.xlabel('n')\n",
    "plt.ylabel('computation time (s)')\n",
    "plt.legend()\n",
    "plt.grid()"
   ]
  },
  {
   "cell_type": "markdown",
   "id": "17c91940",
   "metadata": {},
   "source": [
    "<h4>Recursion: O(2<sup>n</sup>)</h4>\n",
    "Since each call of <code>fib_recursion</code> calls the same function two more times, then for large n, the number of operations performed is on the order of 2<sup>n</sup>. This is shown in the log-log graph as an exponential growth. \n",
    "\n",
    "<h4>Tabulation: O(n)</h4>\n",
    "Starting from the first two fibonacci numbers and calculating the next successive terms from the previous two is akin to how one would calculate fibonacci numbers by hand. Thus, for n > 1, <code>fib_tabulation</code> performs n-1 summations to obtain the nth fibonacci number. This should appear as a linear function on a log-log graph, but the graph above seems to be showing a more exponential growth (or maybe quadratic). \n",
    "\n",
    "<h4>Matrix: O(log<sub>2</sub>n)</h4>\n",
    "The matrix method takes n-1 powers of a 2x2 matrix in order to compute the nth fibonacci number. Since powers can be computed by repeatedly taking half the power, <code>fib_matrix</code> computes around log<sub>2</sub>(n-1) matrix multiplications. Hence, the graph should appear to be logarithmic on a log-log plot, but the graph above, instead, shows a more linear plot for n > 10<sup>5</sup>.\n",
    "\n",
    "I'm not sure where the discrepency between the theoretical and experimental time complexity for the tabulation and matrix method comes from. Perhaps there's not enough points to demonstrate the long term behaviour of these algorithms, or something "
   ]
  }
 ],
 "metadata": {
  "kernelspec": {
   "display_name": "Python 3 (ipykernel)",
   "language": "python",
   "name": "python3"
  },
  "language_info": {
   "codemirror_mode": {
    "name": "ipython",
    "version": 3
   },
   "file_extension": ".py",
   "mimetype": "text/x-python",
   "name": "python",
   "nbconvert_exporter": "python",
   "pygments_lexer": "ipython3",
   "version": "3.9.7"
  }
 },
 "nbformat": 4,
 "nbformat_minor": 5
}
